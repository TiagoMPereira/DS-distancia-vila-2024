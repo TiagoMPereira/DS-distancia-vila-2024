{
 "cells": [
  {
   "cell_type": "code",
   "execution_count": 1,
   "metadata": {},
   "outputs": [],
   "source": [
    "import pandas as pd"
   ]
  },
  {
   "cell_type": "code",
   "execution_count": 2,
   "metadata": {},
   "outputs": [
    {
     "data": {
      "text/html": [
       "<div>\n",
       "<style scoped>\n",
       "    .dataframe tbody tr th:only-of-type {\n",
       "        vertical-align: middle;\n",
       "    }\n",
       "\n",
       "    .dataframe tbody tr th {\n",
       "        vertical-align: top;\n",
       "    }\n",
       "\n",
       "    .dataframe thead th {\n",
       "        text-align: right;\n",
       "    }\n",
       "</style>\n",
       "<table border=\"1\" class=\"dataframe\">\n",
       "  <thead>\n",
       "    <tr style=\"text-align: right;\">\n",
       "      <th></th>\n",
       "      <th>team</th>\n",
       "      <th>stadium</th>\n",
       "      <th>img</th>\n",
       "      <th>lat</th>\n",
       "      <th>long</th>\n",
       "      <th>country</th>\n",
       "      <th>state</th>\n",
       "      <th>city</th>\n",
       "      <th>coordinates</th>\n",
       "      <th>vila_distance</th>\n",
       "    </tr>\n",
       "  </thead>\n",
       "  <tbody>\n",
       "    <tr>\n",
       "      <th>0</th>\n",
       "      <td>Fluminense FC</td>\n",
       "      <td>Estádio Jornalista Mário Filho</td>\n",
       "      <td>https://tmssl.akamaized.net/images/wappen/very...</td>\n",
       "      <td>-22.912162</td>\n",
       "      <td>-43.231186</td>\n",
       "      <td>Brazil</td>\n",
       "      <td>RJ</td>\n",
       "      <td>Rio de Janeiro</td>\n",
       "      <td>(-22.9121619, -43.2311861)</td>\n",
       "      <td>337.786949</td>\n",
       "    </tr>\n",
       "    <tr>\n",
       "      <th>1</th>\n",
       "      <td>CR Flamengo</td>\n",
       "      <td>Estádio Jornalista Mário Filho</td>\n",
       "      <td>https://tmssl.akamaized.net/images/wappen/very...</td>\n",
       "      <td>-22.912162</td>\n",
       "      <td>-43.231186</td>\n",
       "      <td>Brazil</td>\n",
       "      <td>RJ</td>\n",
       "      <td>Rio de Janeiro</td>\n",
       "      <td>(-22.9121619, -43.2311861)</td>\n",
       "      <td>337.786949</td>\n",
       "    </tr>\n",
       "    <tr>\n",
       "      <th>2</th>\n",
       "      <td>São Paulo FC</td>\n",
       "      <td>Estádio Cícero Pompeu de Toledo</td>\n",
       "      <td>https://tmssl.akamaized.net/images/wappen/very...</td>\n",
       "      <td>-23.600058</td>\n",
       "      <td>-46.720158</td>\n",
       "      <td>Brazil</td>\n",
       "      <td>SP</td>\n",
       "      <td>São Paulo</td>\n",
       "      <td>(-23.6000584, -46.7201583)</td>\n",
       "      <td>54.965266</td>\n",
       "    </tr>\n",
       "    <tr>\n",
       "      <th>3</th>\n",
       "      <td>Cruzeiro EC</td>\n",
       "      <td>Estádio Governador Magalhães Pinto</td>\n",
       "      <td>https://tmssl.akamaized.net/images/wappen/very...</td>\n",
       "      <td>-19.865911</td>\n",
       "      <td>-43.971043</td>\n",
       "      <td>Brazil</td>\n",
       "      <td>MG</td>\n",
       "      <td>Belo Horizonte</td>\n",
       "      <td>(-19.8659115, -43.9710434)</td>\n",
       "      <td>514.246997</td>\n",
       "    </tr>\n",
       "    <tr>\n",
       "      <th>4</th>\n",
       "      <td>Grêmio FBPA</td>\n",
       "      <td>Arena do Grêmio</td>\n",
       "      <td>https://tmssl.akamaized.net/images/wappen/very...</td>\n",
       "      <td>-29.974043</td>\n",
       "      <td>-51.195107</td>\n",
       "      <td>Brazil</td>\n",
       "      <td>RS</td>\n",
       "      <td>Porto Alegre</td>\n",
       "      <td>(-29.9740429, -51.1951073)</td>\n",
       "      <td>823.063756</td>\n",
       "    </tr>\n",
       "  </tbody>\n",
       "</table>\n",
       "</div>"
      ],
      "text/plain": [
       "            team                             stadium  \\\n",
       "0  Fluminense FC      Estádio Jornalista Mário Filho   \n",
       "1    CR Flamengo      Estádio Jornalista Mário Filho   \n",
       "2   São Paulo FC     Estádio Cícero Pompeu de Toledo   \n",
       "3    Cruzeiro EC  Estádio Governador Magalhães Pinto   \n",
       "4    Grêmio FBPA                     Arena do Grêmio   \n",
       "\n",
       "                                                 img        lat       long  \\\n",
       "0  https://tmssl.akamaized.net/images/wappen/very... -22.912162 -43.231186   \n",
       "1  https://tmssl.akamaized.net/images/wappen/very... -22.912162 -43.231186   \n",
       "2  https://tmssl.akamaized.net/images/wappen/very... -23.600058 -46.720158   \n",
       "3  https://tmssl.akamaized.net/images/wappen/very... -19.865911 -43.971043   \n",
       "4  https://tmssl.akamaized.net/images/wappen/very... -29.974043 -51.195107   \n",
       "\n",
       "  country state            city                 coordinates  vila_distance  \n",
       "0  Brazil    RJ  Rio de Janeiro  (-22.9121619, -43.2311861)     337.786949  \n",
       "1  Brazil    RJ  Rio de Janeiro  (-22.9121619, -43.2311861)     337.786949  \n",
       "2  Brazil    SP       São Paulo  (-23.6000584, -46.7201583)      54.965266  \n",
       "3  Brazil    MG  Belo Horizonte  (-19.8659115, -43.9710434)     514.246997  \n",
       "4  Brazil    RS    Porto Alegre  (-29.9740429, -51.1951073)     823.063756  "
      ]
     },
     "execution_count": 2,
     "metadata": {},
     "output_type": "execute_result"
    }
   ],
   "source": [
    "data = pd.read_csv(\"../data/distances_vila.csv\")\n",
    "data.head()"
   ]
  },
  {
   "cell_type": "code",
   "execution_count": 4,
   "metadata": {},
   "outputs": [
    {
     "data": {
      "text/plain": [
       "array(['Fluminense FC', 'CR Flamengo', 'São Paulo FC', 'Cruzeiro EC',\n",
       "       'Grêmio FBPA', 'Fortaleza EC', 'SC Internacional',\n",
       "       'SC Corinthians', 'EC Bahia', 'Botafogo FR', 'Atlético Mineiro',\n",
       "       'SE Palmeiras', 'Cuiabá EC', 'Athletico Paranaense', 'Coritiba FC',\n",
       "       'América Mineiro', 'CR Vasco da Gama', 'Santos FC',\n",
       "       'RB Bragantino', 'Goiás EC', 'Ceará SC', 'Sport Recife',\n",
       "       'Guarani FC', 'EC Vitória', 'Botafogo FC', 'EC Juventude',\n",
       "       'Chapecoense', 'CRB', 'AA Ponte Preta', 'Criciúma EC',\n",
       "       'Grêmio Novorizontino', 'Avaí FC', 'Ituano FC', 'Mirassol FC',\n",
       "       'Atlético Goianiense', 'Vila Nova FC', 'Brusque FC', 'Amazonas FC',\n",
       "       'Operário FEC', 'Paysandu SC'], dtype=object)"
      ]
     },
     "execution_count": 4,
     "metadata": {},
     "output_type": "execute_result"
    }
   ],
   "source": [
    "data['team'].unique()"
   ]
  },
  {
   "cell_type": "markdown",
   "metadata": {},
   "source": [
    "### Scenario 1 - Santos - B"
   ]
  },
  {
   "cell_type": "code",
   "execution_count": 10,
   "metadata": {},
   "outputs": [],
   "source": [
    "teams_a = ['Fluminense FC', 'CR Flamengo', 'São Paulo FC', 'Cruzeiro EC',\n",
    "       'Grêmio FBPA', 'Fortaleza EC', 'SC Internacional',\n",
    "       'SC Corinthians', 'EC Bahia', 'Botafogo FR', 'Atlético Mineiro',\n",
    "       'SE Palmeiras', 'Cuiabá EC', 'Athletico Paranaense', 'CR Vasco da Gama',\n",
    "       'RB Bragantino', 'Atlético Goianiense', 'EC Juventude', 'EC Vitória',\n",
    "       'Criciúma EC']\n",
    "\n",
    "data['scenario_1'] = [\"A\" if team in teams_a else \"B\" for team in data['team']]"
   ]
  },
  {
   "cell_type": "markdown",
   "metadata": {},
   "source": [
    "### Scenario 2 - Vasco - B"
   ]
  },
  {
   "cell_type": "code",
   "execution_count": 11,
   "metadata": {},
   "outputs": [],
   "source": [
    "teams_a = ['Fluminense FC', 'CR Flamengo', 'São Paulo FC', 'Cruzeiro EC',\n",
    "       'Grêmio FBPA', 'Fortaleza EC', 'SC Internacional',\n",
    "       'SC Corinthians', 'EC Bahia', 'Botafogo FR', 'Atlético Mineiro',\n",
    "       'SE Palmeiras', 'Cuiabá EC', 'Athletico Paranaense', 'Santos FC',\n",
    "       'RB Bragantino', 'Atlético Goianiense', 'EC Juventude', 'EC Vitória',\n",
    "       'Criciúma EC']\n",
    "\n",
    "data['scenario_2'] = [\"A\" if team in teams_a else \"B\" for team in data['team']]"
   ]
  },
  {
   "cell_type": "markdown",
   "metadata": {},
   "source": [
    "### Scenario 3 - Bahia - B"
   ]
  },
  {
   "cell_type": "code",
   "execution_count": 12,
   "metadata": {},
   "outputs": [],
   "source": [
    "teams_a = ['Fluminense FC', 'CR Flamengo', 'São Paulo FC', 'Cruzeiro EC',\n",
    "       'Grêmio FBPA', 'Fortaleza EC', 'SC Internacional',\n",
    "       'SC Corinthians', 'Santos FC', 'Botafogo FR', 'Atlético Mineiro',\n",
    "       'SE Palmeiras', 'Cuiabá EC', 'Athletico Paranaense', 'CR Vasco da Gama',\n",
    "       'RB Bragantino', 'Atlético Goianiense', 'EC Juventude', 'EC Vitória',\n",
    "       'Criciúma EC']\n",
    "\n",
    "data['scenario_3'] = [\"A\" if team in teams_a else \"B\" for team in data['team']]"
   ]
  },
  {
   "cell_type": "code",
   "execution_count": 14,
   "metadata": {},
   "outputs": [],
   "source": [
    "data.to_csv(\"../data/scenarios.csv\", index=False)"
   ]
  }
 ],
 "metadata": {
  "kernelspec": {
   "display_name": "venv-distance",
   "language": "python",
   "name": "python3"
  },
  "language_info": {
   "codemirror_mode": {
    "name": "ipython",
    "version": 3
   },
   "file_extension": ".py",
   "mimetype": "text/x-python",
   "name": "python",
   "nbconvert_exporter": "python",
   "pygments_lexer": "ipython3",
   "version": "3.10.12"
  }
 },
 "nbformat": 4,
 "nbformat_minor": 2
}
