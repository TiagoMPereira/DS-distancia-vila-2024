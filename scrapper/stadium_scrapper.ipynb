{
 "cells": [
  {
   "cell_type": "code",
   "execution_count": 1,
   "metadata": {},
   "outputs": [],
   "source": [
    "import requests\n",
    "from bs4 import BeautifulSoup"
   ]
  },
  {
   "cell_type": "markdown",
   "metadata": {},
   "source": [
    "### Scrapping team name and stadium"
   ]
  },
  {
   "cell_type": "code",
   "execution_count": 2,
   "metadata": {},
   "outputs": [],
   "source": [
    "headers = {\"User-Agent\": \"Mozilla/5.0 (X11; Linux x86_64) AppleWebKit/537.36 (KHTML, like Gecko) Chrome/47.0.2526.106 Safari/537.36\"}\n",
    "\n",
    "urls = [\"https://www.transfermarkt.com.br/campeonato-brasileiro-serie-a/stadien/wettbewerb/BRA1\",\n",
    "        \"https://www.transfermarkt.com.br/campeonato-brasileiro-serie-b/stadien/wettbewerb/BRA2\"]"
   ]
  },
  {
   "cell_type": "code",
   "execution_count": 3,
   "metadata": {},
   "outputs": [],
   "source": [
    "teams = []\n",
    "for url in urls:\n",
    "    page = requests.get(url, headers=headers)\n",
    "    soup = BeautifulSoup(page.text, \"html.parser\")\n",
    "\n",
    "    rows = soup.find_all(\"td\", {\"class\": \"hauptlink\"})\n",
    "    images = soup.find_all(\"table\", {\"class\": \"inline-table\"})\n",
    "\n",
    "    for team_id in range(20):\n",
    "        team_name = rows[team_id].findNext(\"a\")[\"title\"]\n",
    "        stadium = rows[team_id].findNext(\"a\").text\n",
    "        img = images[team_id].find_all(\"img\")[0]['src']\n",
    "\n",
    "        teams.append({\"team\": team_name, \"stadium\": stadium, \"img\": img})"
   ]
  },
  {
   "cell_type": "markdown",
   "metadata": {},
   "source": [
    "### Serie C is not available for scrapping"
   ]
  },
  {
   "cell_type": "code",
   "execution_count": 4,
   "metadata": {},
   "outputs": [],
   "source": [
    "serie_c = [\n",
    "    {\n",
    "        'team': 'Brusque FC',\n",
    "        'stadium': 'Estadio Augusto Bauer',\n",
    "        'img': 'https://tmssl.akamaized.net/images/wappen/homepage/14390.png?lm=1579096150'\n",
    "    },\n",
    "    {\n",
    "        'team': 'Amazonas FC',\n",
    "        'stadium': 'Arena da Amazônia',\n",
    "        'img': 'https://tmssl.akamaized.net/images/wappen/homepage/87727.png?lm=1612517939'\n",
    "    },\n",
    "    {\n",
    "        'team': 'Operário FEC',\n",
    "        'stadium': 'Estadio Germano Kruger',\n",
    "        'img': 'https://tmssl.akamaized.net/images/wappen/tiny/27214.png?lm=1647255730'\n",
    "    },\n",
    "    {\n",
    "        'team': 'Paysandu SC',\n",
    "        'stadium': 'Estádio Banpará Curuzu',\n",
    "        'img': 'https://tmssl.akamaized.net/images/wappen/tiny/6347.png?lm=1596631029'\n",
    "    },\n",
    "]"
   ]
  },
  {
   "cell_type": "code",
   "execution_count": 5,
   "metadata": {},
   "outputs": [],
   "source": [
    "teams.extend(serie_c)"
   ]
  },
  {
   "cell_type": "code",
   "execution_count": 6,
   "metadata": {},
   "outputs": [
    {
     "data": {
      "text/plain": [
       "[{'team': 'Fluminense FC',\n",
       "  'stadium': 'Estádio Jornalista Mário Filho',\n",
       "  'img': 'https://tmssl.akamaized.net/images/wappen/verysmall/2462.png?lm=1648225934'},\n",
       " {'team': 'CR Flamengo',\n",
       "  'stadium': 'Estádio Jornalista Mário Filho',\n",
       "  'img': 'https://tmssl.akamaized.net/images/wappen/verysmall/614.png?lm=1551023331'},\n",
       " {'team': 'São Paulo FC',\n",
       "  'stadium': 'Estádio Cícero Pompeu de Toledo',\n",
       "  'img': 'https://tmssl.akamaized.net/images/wappen/verysmall/585.png?lm=1409133922'},\n",
       " {'team': 'Cruzeiro EC',\n",
       "  'stadium': 'Estádio Governador Magalhães Pinto',\n",
       "  'img': 'https://tmssl.akamaized.net/images/wappen/verysmall/609.png?lm=1641150262'},\n",
       " {'team': 'Grêmio FBPA',\n",
       "  'stadium': 'Arena do Grêmio',\n",
       "  'img': 'https://tmssl.akamaized.net/images/wappen/verysmall/210.png?lm=1412879265'},\n",
       " {'team': 'Fortaleza EC',\n",
       "  'stadium': 'Estádio Governador Plácido Castelo',\n",
       "  'img': 'https://tmssl.akamaized.net/images/wappen/verysmall/10870.png?lm=1631541450'},\n",
       " {'team': 'SC Internacional',\n",
       "  'stadium': 'Estádio Beira-Rio',\n",
       "  'img': 'https://tmssl.akamaized.net/images/wappen/verysmall/6600.png?lm=1644878605'},\n",
       " {'team': 'SC Corinthians',\n",
       "  'stadium': 'Neo Química Arena ',\n",
       "  'img': 'https://tmssl.akamaized.net/images/wappen/verysmall/199.png?lm=1649430398'},\n",
       " {'team': 'EC Bahia',\n",
       "  'stadium': 'Arena Fonte Nova',\n",
       "  'img': 'https://tmssl.akamaized.net/images/wappen/verysmall/10010.png?lm=1412879423'},\n",
       " {'team': 'Botafogo FR',\n",
       "  'stadium': 'Estádio Olímpico Nilton Santos',\n",
       "  'img': 'https://tmssl.akamaized.net/images/wappen/verysmall/537.png?lm=1651494898'},\n",
       " {'team': 'Atlético Mineiro',\n",
       "  'stadium': 'Arena MRV',\n",
       "  'img': 'https://tmssl.akamaized.net/images/wappen/verysmall/330.png?lm=1411033853'},\n",
       " {'team': 'SE Palmeiras',\n",
       "  'stadium': 'Allianz Parque',\n",
       "  'img': 'https://tmssl.akamaized.net/images/wappen/verysmall/1023.png?lm=1411204983'},\n",
       " {'team': 'Cuiabá EC',\n",
       "  'stadium': 'Arena Pantanal',\n",
       "  'img': 'https://tmssl.akamaized.net/images/wappen/verysmall/28022.png?lm=1451243370'},\n",
       " {'team': 'Athletico Paranaense',\n",
       "  'stadium': 'Ligga Arena',\n",
       "  'img': 'https://tmssl.akamaized.net/images/wappen/verysmall/679.png?lm=1548711363'},\n",
       " {'team': 'Coritiba FC',\n",
       "  'stadium': 'Estádio Major Antônio Couto Pereira',\n",
       "  'img': 'https://tmssl.akamaized.net/images/wappen/verysmall/776.png?lm=1412879464'},\n",
       " {'team': 'América Mineiro',\n",
       "  'stadium': 'Estádio Raimundo Sampaio',\n",
       "  'img': 'https://tmssl.akamaized.net/images/wappen/verysmall/2863.png?lm=1646322335'},\n",
       " {'team': 'CR Vasco da Gama',\n",
       "  'stadium': 'Estádio São Januário',\n",
       "  'img': 'https://tmssl.akamaized.net/images/wappen/verysmall/978.png?lm=1651168164'},\n",
       " {'team': 'Santos FC',\n",
       "  'stadium': 'Estádio Urbano Caldeira',\n",
       "  'img': 'https://tmssl.akamaized.net/images/wappen/verysmall/221.png?lm=1412879099'},\n",
       " {'team': 'RB Bragantino',\n",
       "  'stadium': 'Estádio Nabi Abi Chedid',\n",
       "  'img': 'https://tmssl.akamaized.net/images/wappen/verysmall/8793.png?lm=1577915313'},\n",
       " {'team': 'Goiás EC',\n",
       "  'stadium': 'Estádio de Hailé Pinheiro',\n",
       "  'img': 'https://tmssl.akamaized.net/images/wappen/verysmall/3197.png?lm=1668099048'},\n",
       " {'team': 'Ceará SC',\n",
       "  'stadium': 'Estádio Governador Plácido Castelo',\n",
       "  'img': 'https://tmssl.akamaized.net/images/wappen/verysmall/2029.png?lm=1437429449'},\n",
       " {'team': 'Sampaio Corrêa FC',\n",
       "  'stadium': 'Estádio Governador João Castelo - Castelão',\n",
       "  'img': 'https://tmssl.akamaized.net/images/wappen/verysmall/3319.png?lm=1670079461'},\n",
       " {'team': 'Londrina EC',\n",
       "  'stadium': 'Estádio Municipal Jacy Scaff',\n",
       "  'img': 'https://tmssl.akamaized.net/images/wappen/verysmall/1693.png?lm=1434312269'},\n",
       " {'team': 'Sport Recife',\n",
       "  'stadium': 'Estádio Adelmar da Costa Carvalho',\n",
       "  'img': 'https://tmssl.akamaized.net/images/wappen/verysmall/8718.png?lm=1412879537'},\n",
       " {'team': 'Guarani FC',\n",
       "  'stadium': 'Estádio Brinco de Ouro da Princesa',\n",
       "  'img': 'https://tmssl.akamaized.net/images/wappen/verysmall/1755.png?lm=1450819625'},\n",
       " {'team': 'EC Vitória',\n",
       "  'stadium': 'Estádio Manoel Barradas',\n",
       "  'img': 'https://tmssl.akamaized.net/images/wappen/verysmall/2125.png?lm=1412879373'},\n",
       " {'team': 'Botafogo FC',\n",
       "  'stadium': 'Estádio Santa Cruz',\n",
       "  'img': 'https://tmssl.akamaized.net/images/wappen/verysmall/9030.png?lm=1423676900'},\n",
       " {'team': 'EC Juventude',\n",
       "  'stadium': 'Estádio Alfredo Jaconi ',\n",
       "  'img': 'https://tmssl.akamaized.net/images/wappen/verysmall/10492.png?lm=1416046262'},\n",
       " {'team': 'Chapecoense',\n",
       "  'stadium': 'Arena Condá',\n",
       "  'img': 'https://tmssl.akamaized.net/images/wappen/verysmall/17776.png?lm=1677130387'},\n",
       " {'team': 'CRB',\n",
       "  'stadium': 'Estádio Rei Pelé',\n",
       "  'img': 'https://tmssl.akamaized.net/images/wappen/verysmall/11449.png?lm=1419705980'},\n",
       " {'team': 'AA Ponte Preta',\n",
       "  'stadium': 'Estádio Moisés Lucarelli',\n",
       "  'img': 'https://tmssl.akamaized.net/images/wappen/verysmall/1134.png?lm=1419949200'},\n",
       " {'team': 'Criciúma EC',\n",
       "  'stadium': 'Estádio Heriberto Hülse',\n",
       "  'img': 'https://tmssl.akamaized.net/images/wappen/verysmall/7178.png?lm=1412878993'},\n",
       " {'team': 'ABC FC',\n",
       "  'stadium': 'Estádio Maria Lamas Farache',\n",
       "  'img': 'https://tmssl.akamaized.net/images/wappen/verysmall/7209.png?lm=1438032109'},\n",
       " {'team': 'Grêmio Novorizontino',\n",
       "  'stadium': 'Estádio Jorge Ismael de Biasi',\n",
       "  'img': 'https://tmssl.akamaized.net/images/wappen/verysmall/37474.png?lm=1420383136'},\n",
       " {'team': 'Avaí FC',\n",
       "  'stadium': 'Estádio Aderbal Ramos da Silva',\n",
       "  'img': 'https://tmssl.akamaized.net/images/wappen/verysmall/2035.png?lm=1419949249'},\n",
       " {'team': 'Ituano FC',\n",
       "  'stadium': 'Estádio Municipal Doutor Novelli Júnior',\n",
       "  'img': 'https://tmssl.akamaized.net/images/wappen/verysmall/4773.png?lm=1455315107'},\n",
       " {'team': 'Mirassol FC',\n",
       "  'stadium': 'Estádio Municipal José María de Campos Maia',\n",
       "  'img': 'https://tmssl.akamaized.net/images/wappen/verysmall/3876.png?lm=1585083395'},\n",
       " {'team': 'Atlético Goianiense',\n",
       "  'stadium': 'Estádio Antonio Accioly',\n",
       "  'img': 'https://tmssl.akamaized.net/images/wappen/verysmall/15172.png?lm=1598605472'},\n",
       " {'team': 'Vila Nova FC',\n",
       "  'stadium': 'Estádio Onésio Brasileiro Alvarenga',\n",
       "  'img': 'https://tmssl.akamaized.net/images/wappen/verysmall/5677.png?lm=1683557145'},\n",
       " {'team': 'Tombense FC',\n",
       "  'stadium': 'Estádio Antônio Guimarães de Almeida',\n",
       "  'img': 'https://tmssl.akamaized.net/images/wappen/verysmall/3234.png?lm=1619352176'},\n",
       " {'team': 'Brusque FC',\n",
       "  'stadium': 'Estadio Augusto Bauer',\n",
       "  'img': 'https://tmssl.akamaized.net/images/wappen/homepage/14390.png?lm=1579096150'},\n",
       " {'team': 'Amazonas FC',\n",
       "  'stadium': 'Arena da Amazônia',\n",
       "  'img': 'https://tmssl.akamaized.net/images/wappen/homepage/87727.png?lm=1612517939'},\n",
       " {'team': 'Operário FEC',\n",
       "  'stadium': 'Estadio Germano Kruger',\n",
       "  'img': 'https://tmssl.akamaized.net/images/wappen/tiny/27214.png?lm=1647255730'},\n",
       " {'team': 'Paysandu SC',\n",
       "  'stadium': 'Estádio Banpará Curuzu',\n",
       "  'img': 'https://tmssl.akamaized.net/images/wappen/tiny/6347.png?lm=1596631029'}]"
      ]
     },
     "execution_count": 6,
     "metadata": {},
     "output_type": "execute_result"
    }
   ],
   "source": [
    "teams"
   ]
  },
  {
   "cell_type": "code",
   "execution_count": 10,
   "metadata": {},
   "outputs": [],
   "source": [
    "import json\n",
    "with open(\"../data/team-stadium.json\", \"w\", encoding=\"UTF-8\") as fp:\n",
    "    json.dump(teams, fp)"
   ]
  }
 ],
 "metadata": {
  "kernelspec": {
   "display_name": "venv-scrapper",
   "language": "python",
   "name": "python3"
  },
  "language_info": {
   "codemirror_mode": {
    "name": "ipython",
    "version": 3
   },
   "file_extension": ".py",
   "mimetype": "text/x-python",
   "name": "python",
   "nbconvert_exporter": "python",
   "pygments_lexer": "ipython3",
   "version": "3.10.12"
  }
 },
 "nbformat": 4,
 "nbformat_minor": 2
}
